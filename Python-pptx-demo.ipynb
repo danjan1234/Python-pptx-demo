{
 "cells": [
  {
   "cell_type": "markdown",
   "metadata": {},
   "source": [
    "# Demonstration of Python-pptx"
   ]
  },
  {
   "cell_type": "code",
   "execution_count": 8,
   "metadata": {},
   "outputs": [
    {
     "name": "stdout",
     "output_type": "stream",
     "text": [
      "Once deleted, variables cannot be recovered. Proceed (y/[n])? y\n"
     ]
    }
   ],
   "source": [
    "%reset"
   ]
  },
  {
   "cell_type": "code",
   "execution_count": 9,
   "metadata": {
    "collapsed": true
   },
   "outputs": [],
   "source": [
    "from pptx import Presentation\n",
    "import io\n",
    "import pandas as pd\n",
    "import matplotlib.pyplot as plt\n",
    "%matplotlib inline"
   ]
  },
  {
   "cell_type": "markdown",
   "metadata": {},
   "source": [
    "### Open the template"
   ]
  },
  {
   "cell_type": "code",
   "execution_count": 10,
   "metadata": {
    "collapsed": true
   },
   "outputs": [],
   "source": [
    "# Open template pptx\n",
    "file_name = r'template.pptx'\n",
    "prs = Presentation(file_name)"
   ]
  },
  {
   "cell_type": "markdown",
   "metadata": {},
   "source": [
    "### Add new pages"
   ]
  },
  {
   "cell_type": "code",
   "execution_count": 11,
   "metadata": {
    "collapsed": true
   },
   "outputs": [],
   "source": [
    "# Add more pages\n",
    "for i in range(9):\n",
    "    slide_layout = prs.slide_layouts[i]\n",
    "    slide = prs.slides.add_slide(slide_layout)\n",
    "    if i != 6:    # Skip the blank page\n",
    "        title_placeholder = slide.shapes.title\n",
    "        title_placeholder.text = 'Slide Layout {}'.format(i)"
   ]
  },
  {
   "cell_type": "markdown",
   "metadata": {},
   "source": [
    "### Add pictures"
   ]
  },
  {
   "cell_type": "code",
   "execution_count": 13,
   "metadata": {
    "collapsed": true
   },
   "outputs": [],
   "source": [
    "df = pd.read_csv('train.csv')\n",
    "num_pics = 100    # Number of pictures to add"
   ]
  },
  {
   "cell_type": "code",
   "execution_count": 14,
   "metadata": {},
   "outputs": [
    {
     "name": "stdout",
     "output_type": "stream",
     "text": [
      "The total run time is 8.6s\n"
     ]
    }
   ],
   "source": [
    "# Define a function for creating and saving the figures\n",
    "def func():\n",
    "    for i in range(num_pics):\n",
    "        # Create the figure and save it to the buffer\n",
    "        ax = df.plot(x='Age', y='Fare', style='.')\n",
    "        fig = ax.get_figure()\n",
    "        buf = io.BytesIO()\n",
    "        fig.savefig(buf, format='png')\n",
    "        plt.close(fig)\n",
    "\n",
    "        # Insert the figure in the presentation\n",
    "        slide_layout = prs.slide_layouts[8]\n",
    "        slide = prs.slides.add_slide(slide_layout)\n",
    "        placeholder = slide.placeholders[1]\n",
    "        buf.seek(0)\n",
    "        placeholder.insert_picture(buf)\n",
    "        buf.close()\n",
    "        slide.shapes.title.text = 'Fare vs Age {}'.format(i)\n",
    "        \n",
    "import timeit\n",
    "print(\"Total run time: {0:.1f}s\".format(timeit.timeit(func, number=1)))"
   ]
  },
  {
   "cell_type": "markdown",
   "metadata": {},
   "source": [
    "### Save the presentation"
   ]
  },
  {
   "cell_type": "code",
   "execution_count": 15,
   "metadata": {
    "collapsed": true
   },
   "outputs": [],
   "source": [
    "# Save the new pptx\n",
    "prs.save('new_presentation.pptx')"
   ]
  }
 ],
 "metadata": {
  "kernelspec": {
   "display_name": "Python 3",
   "language": "python",
   "name": "python3"
  },
  "language_info": {
   "codemirror_mode": {
    "name": "ipython",
    "version": 3
   },
   "file_extension": ".py",
   "mimetype": "text/x-python",
   "name": "python",
   "nbconvert_exporter": "python",
   "pygments_lexer": "ipython3",
   "version": "3.6.1"
  }
 },
 "nbformat": 4,
 "nbformat_minor": 2
}
